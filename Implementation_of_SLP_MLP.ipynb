{
  "nbformat": 4,
  "nbformat_minor": 0,
  "metadata": {
    "colab": {
      "provenance": [],
      "authorship_tag": "ABX9TyMti4M6IIkxz2yctYzUuvCb",
      "include_colab_link": true
    },
    "kernelspec": {
      "name": "python3",
      "display_name": "Python 3"
    },
    "language_info": {
      "name": "python"
    }
  },
  "cells": [
    {
      "cell_type": "markdown",
      "metadata": {
        "id": "view-in-github",
        "colab_type": "text"
      },
      "source": [
        "<a href=\"https://colab.research.google.com/github/ShreyaTripathi1/SLP-MLP-on-Iris-Dataset/blob/main/Implementation_of_SLP_MLP.ipynb\" target=\"_parent\"><img src=\"https://colab.research.google.com/assets/colab-badge.svg\" alt=\"Open In Colab\"/></a>"
      ]
    },
    {
      "cell_type": "markdown",
      "source": [
        "# **Single Layer Perceptron**"
      ],
      "metadata": {
        "id": "ULGk0mmxW-cb"
      }
    },
    {
      "cell_type": "code",
      "execution_count": 86,
      "metadata": {
        "id": "lk1nooNRSDXk"
      },
      "outputs": [],
      "source": [
        "import numpy as np\n",
        "import pandas as pd\n",
        "import matplotlib.pyplot as plt"
      ]
    },
    {
      "cell_type": "code",
      "source": [
        "# Load Dataset\n",
        "data = pd.read_csv('iris.csv')\n",
        "data.columns = ['Sepal_len_cm', 'Sepal_wid_cm', 'Petal_len_cm', 'Petal_wid_cm', 'Type']\n",
        "data.head(10)"
      ],
      "metadata": {
        "colab": {
          "base_uri": "https://localhost:8080/",
          "height": 363
        },
        "id": "mtKS1o6cSTp1",
        "outputId": "25569209-5a8a-4dc1-8511-13ec266bf33d"
      },
      "execution_count": 55,
      "outputs": [
        {
          "output_type": "execute_result",
          "data": {
            "text/plain": [
              "   Sepal_len_cm  Sepal_wid_cm  Petal_len_cm  Petal_wid_cm  Type\n",
              "0           4.9           3.0           1.4           0.2     0\n",
              "1           4.7           3.2           1.3           0.2     0\n",
              "2           4.6           3.1           1.5           0.2     0\n",
              "3           5.0           3.6           1.4           0.2     0\n",
              "4           5.4           3.9           1.7           0.4     0\n",
              "5           4.6           3.4           1.4           0.3     0\n",
              "6           5.0           3.4           1.5           0.2     0\n",
              "7           4.4           2.9           1.4           0.2     0\n",
              "8           4.9           3.1           1.5           0.1     0\n",
              "9           5.4           3.7           1.5           0.2     0"
            ],
            "text/html": [
              "\n",
              "  <div id=\"df-e516d045-0957-4f55-b00b-b2e2a81b9ba9\" class=\"colab-df-container\">\n",
              "    <div>\n",
              "<style scoped>\n",
              "    .dataframe tbody tr th:only-of-type {\n",
              "        vertical-align: middle;\n",
              "    }\n",
              "\n",
              "    .dataframe tbody tr th {\n",
              "        vertical-align: top;\n",
              "    }\n",
              "\n",
              "    .dataframe thead th {\n",
              "        text-align: right;\n",
              "    }\n",
              "</style>\n",
              "<table border=\"1\" class=\"dataframe\">\n",
              "  <thead>\n",
              "    <tr style=\"text-align: right;\">\n",
              "      <th></th>\n",
              "      <th>Sepal_len_cm</th>\n",
              "      <th>Sepal_wid_cm</th>\n",
              "      <th>Petal_len_cm</th>\n",
              "      <th>Petal_wid_cm</th>\n",
              "      <th>Type</th>\n",
              "    </tr>\n",
              "  </thead>\n",
              "  <tbody>\n",
              "    <tr>\n",
              "      <th>0</th>\n",
              "      <td>4.9</td>\n",
              "      <td>3.0</td>\n",
              "      <td>1.4</td>\n",
              "      <td>0.2</td>\n",
              "      <td>0</td>\n",
              "    </tr>\n",
              "    <tr>\n",
              "      <th>1</th>\n",
              "      <td>4.7</td>\n",
              "      <td>3.2</td>\n",
              "      <td>1.3</td>\n",
              "      <td>0.2</td>\n",
              "      <td>0</td>\n",
              "    </tr>\n",
              "    <tr>\n",
              "      <th>2</th>\n",
              "      <td>4.6</td>\n",
              "      <td>3.1</td>\n",
              "      <td>1.5</td>\n",
              "      <td>0.2</td>\n",
              "      <td>0</td>\n",
              "    </tr>\n",
              "    <tr>\n",
              "      <th>3</th>\n",
              "      <td>5.0</td>\n",
              "      <td>3.6</td>\n",
              "      <td>1.4</td>\n",
              "      <td>0.2</td>\n",
              "      <td>0</td>\n",
              "    </tr>\n",
              "    <tr>\n",
              "      <th>4</th>\n",
              "      <td>5.4</td>\n",
              "      <td>3.9</td>\n",
              "      <td>1.7</td>\n",
              "      <td>0.4</td>\n",
              "      <td>0</td>\n",
              "    </tr>\n",
              "    <tr>\n",
              "      <th>5</th>\n",
              "      <td>4.6</td>\n",
              "      <td>3.4</td>\n",
              "      <td>1.4</td>\n",
              "      <td>0.3</td>\n",
              "      <td>0</td>\n",
              "    </tr>\n",
              "    <tr>\n",
              "      <th>6</th>\n",
              "      <td>5.0</td>\n",
              "      <td>3.4</td>\n",
              "      <td>1.5</td>\n",
              "      <td>0.2</td>\n",
              "      <td>0</td>\n",
              "    </tr>\n",
              "    <tr>\n",
              "      <th>7</th>\n",
              "      <td>4.4</td>\n",
              "      <td>2.9</td>\n",
              "      <td>1.4</td>\n",
              "      <td>0.2</td>\n",
              "      <td>0</td>\n",
              "    </tr>\n",
              "    <tr>\n",
              "      <th>8</th>\n",
              "      <td>4.9</td>\n",
              "      <td>3.1</td>\n",
              "      <td>1.5</td>\n",
              "      <td>0.1</td>\n",
              "      <td>0</td>\n",
              "    </tr>\n",
              "    <tr>\n",
              "      <th>9</th>\n",
              "      <td>5.4</td>\n",
              "      <td>3.7</td>\n",
              "      <td>1.5</td>\n",
              "      <td>0.2</td>\n",
              "      <td>0</td>\n",
              "    </tr>\n",
              "  </tbody>\n",
              "</table>\n",
              "</div>\n",
              "    <div class=\"colab-df-buttons\">\n",
              "\n",
              "  <div class=\"colab-df-container\">\n",
              "    <button class=\"colab-df-convert\" onclick=\"convertToInteractive('df-e516d045-0957-4f55-b00b-b2e2a81b9ba9')\"\n",
              "            title=\"Convert this dataframe to an interactive table.\"\n",
              "            style=\"display:none;\">\n",
              "\n",
              "  <svg xmlns=\"http://www.w3.org/2000/svg\" height=\"24px\" viewBox=\"0 -960 960 960\">\n",
              "    <path d=\"M120-120v-720h720v720H120Zm60-500h600v-160H180v160Zm220 220h160v-160H400v160Zm0 220h160v-160H400v160ZM180-400h160v-160H180v160Zm440 0h160v-160H620v160ZM180-180h160v-160H180v160Zm440 0h160v-160H620v160Z\"/>\n",
              "  </svg>\n",
              "    </button>\n",
              "\n",
              "  <style>\n",
              "    .colab-df-container {\n",
              "      display:flex;\n",
              "      gap: 12px;\n",
              "    }\n",
              "\n",
              "    .colab-df-convert {\n",
              "      background-color: #E8F0FE;\n",
              "      border: none;\n",
              "      border-radius: 50%;\n",
              "      cursor: pointer;\n",
              "      display: none;\n",
              "      fill: #1967D2;\n",
              "      height: 32px;\n",
              "      padding: 0 0 0 0;\n",
              "      width: 32px;\n",
              "    }\n",
              "\n",
              "    .colab-df-convert:hover {\n",
              "      background-color: #E2EBFA;\n",
              "      box-shadow: 0px 1px 2px rgba(60, 64, 67, 0.3), 0px 1px 3px 1px rgba(60, 64, 67, 0.15);\n",
              "      fill: #174EA6;\n",
              "    }\n",
              "\n",
              "    .colab-df-buttons div {\n",
              "      margin-bottom: 4px;\n",
              "    }\n",
              "\n",
              "    [theme=dark] .colab-df-convert {\n",
              "      background-color: #3B4455;\n",
              "      fill: #D2E3FC;\n",
              "    }\n",
              "\n",
              "    [theme=dark] .colab-df-convert:hover {\n",
              "      background-color: #434B5C;\n",
              "      box-shadow: 0px 1px 3px 1px rgba(0, 0, 0, 0.15);\n",
              "      filter: drop-shadow(0px 1px 2px rgba(0, 0, 0, 0.3));\n",
              "      fill: #FFFFFF;\n",
              "    }\n",
              "  </style>\n",
              "\n",
              "    <script>\n",
              "      const buttonEl =\n",
              "        document.querySelector('#df-e516d045-0957-4f55-b00b-b2e2a81b9ba9 button.colab-df-convert');\n",
              "      buttonEl.style.display =\n",
              "        google.colab.kernel.accessAllowed ? 'block' : 'none';\n",
              "\n",
              "      async function convertToInteractive(key) {\n",
              "        const element = document.querySelector('#df-e516d045-0957-4f55-b00b-b2e2a81b9ba9');\n",
              "        const dataTable =\n",
              "          await google.colab.kernel.invokeFunction('convertToInteractive',\n",
              "                                                    [key], {});\n",
              "        if (!dataTable) return;\n",
              "\n",
              "        const docLinkHtml = 'Like what you see? Visit the ' +\n",
              "          '<a target=\"_blank\" href=https://colab.research.google.com/notebooks/data_table.ipynb>data table notebook</a>'\n",
              "          + ' to learn more about interactive tables.';\n",
              "        element.innerHTML = '';\n",
              "        dataTable['output_type'] = 'display_data';\n",
              "        await google.colab.output.renderOutput(dataTable, element);\n",
              "        const docLink = document.createElement('div');\n",
              "        docLink.innerHTML = docLinkHtml;\n",
              "        element.appendChild(docLink);\n",
              "      }\n",
              "    </script>\n",
              "  </div>\n",
              "\n",
              "\n",
              "<div id=\"df-65923e3e-8247-45cb-94e7-17b100859457\">\n",
              "  <button class=\"colab-df-quickchart\" onclick=\"quickchart('df-65923e3e-8247-45cb-94e7-17b100859457')\"\n",
              "            title=\"Suggest charts\"\n",
              "            style=\"display:none;\">\n",
              "\n",
              "<svg xmlns=\"http://www.w3.org/2000/svg\" height=\"24px\"viewBox=\"0 0 24 24\"\n",
              "     width=\"24px\">\n",
              "    <g>\n",
              "        <path d=\"M19 3H5c-1.1 0-2 .9-2 2v14c0 1.1.9 2 2 2h14c1.1 0 2-.9 2-2V5c0-1.1-.9-2-2-2zM9 17H7v-7h2v7zm4 0h-2V7h2v10zm4 0h-2v-4h2v4z\"/>\n",
              "    </g>\n",
              "</svg>\n",
              "  </button>\n",
              "\n",
              "<style>\n",
              "  .colab-df-quickchart {\n",
              "      --bg-color: #E8F0FE;\n",
              "      --fill-color: #1967D2;\n",
              "      --hover-bg-color: #E2EBFA;\n",
              "      --hover-fill-color: #174EA6;\n",
              "      --disabled-fill-color: #AAA;\n",
              "      --disabled-bg-color: #DDD;\n",
              "  }\n",
              "\n",
              "  [theme=dark] .colab-df-quickchart {\n",
              "      --bg-color: #3B4455;\n",
              "      --fill-color: #D2E3FC;\n",
              "      --hover-bg-color: #434B5C;\n",
              "      --hover-fill-color: #FFFFFF;\n",
              "      --disabled-bg-color: #3B4455;\n",
              "      --disabled-fill-color: #666;\n",
              "  }\n",
              "\n",
              "  .colab-df-quickchart {\n",
              "    background-color: var(--bg-color);\n",
              "    border: none;\n",
              "    border-radius: 50%;\n",
              "    cursor: pointer;\n",
              "    display: none;\n",
              "    fill: var(--fill-color);\n",
              "    height: 32px;\n",
              "    padding: 0;\n",
              "    width: 32px;\n",
              "  }\n",
              "\n",
              "  .colab-df-quickchart:hover {\n",
              "    background-color: var(--hover-bg-color);\n",
              "    box-shadow: 0 1px 2px rgba(60, 64, 67, 0.3), 0 1px 3px 1px rgba(60, 64, 67, 0.15);\n",
              "    fill: var(--button-hover-fill-color);\n",
              "  }\n",
              "\n",
              "  .colab-df-quickchart-complete:disabled,\n",
              "  .colab-df-quickchart-complete:disabled:hover {\n",
              "    background-color: var(--disabled-bg-color);\n",
              "    fill: var(--disabled-fill-color);\n",
              "    box-shadow: none;\n",
              "  }\n",
              "\n",
              "  .colab-df-spinner {\n",
              "    border: 2px solid var(--fill-color);\n",
              "    border-color: transparent;\n",
              "    border-bottom-color: var(--fill-color);\n",
              "    animation:\n",
              "      spin 1s steps(1) infinite;\n",
              "  }\n",
              "\n",
              "  @keyframes spin {\n",
              "    0% {\n",
              "      border-color: transparent;\n",
              "      border-bottom-color: var(--fill-color);\n",
              "      border-left-color: var(--fill-color);\n",
              "    }\n",
              "    20% {\n",
              "      border-color: transparent;\n",
              "      border-left-color: var(--fill-color);\n",
              "      border-top-color: var(--fill-color);\n",
              "    }\n",
              "    30% {\n",
              "      border-color: transparent;\n",
              "      border-left-color: var(--fill-color);\n",
              "      border-top-color: var(--fill-color);\n",
              "      border-right-color: var(--fill-color);\n",
              "    }\n",
              "    40% {\n",
              "      border-color: transparent;\n",
              "      border-right-color: var(--fill-color);\n",
              "      border-top-color: var(--fill-color);\n",
              "    }\n",
              "    60% {\n",
              "      border-color: transparent;\n",
              "      border-right-color: var(--fill-color);\n",
              "    }\n",
              "    80% {\n",
              "      border-color: transparent;\n",
              "      border-right-color: var(--fill-color);\n",
              "      border-bottom-color: var(--fill-color);\n",
              "    }\n",
              "    90% {\n",
              "      border-color: transparent;\n",
              "      border-bottom-color: var(--fill-color);\n",
              "    }\n",
              "  }\n",
              "</style>\n",
              "\n",
              "  <script>\n",
              "    async function quickchart(key) {\n",
              "      const quickchartButtonEl =\n",
              "        document.querySelector('#' + key + ' button');\n",
              "      quickchartButtonEl.disabled = true;  // To prevent multiple clicks.\n",
              "      quickchartButtonEl.classList.add('colab-df-spinner');\n",
              "      try {\n",
              "        const charts = await google.colab.kernel.invokeFunction(\n",
              "            'suggestCharts', [key], {});\n",
              "      } catch (error) {\n",
              "        console.error('Error during call to suggestCharts:', error);\n",
              "      }\n",
              "      quickchartButtonEl.classList.remove('colab-df-spinner');\n",
              "      quickchartButtonEl.classList.add('colab-df-quickchart-complete');\n",
              "    }\n",
              "    (() => {\n",
              "      let quickchartButtonEl =\n",
              "        document.querySelector('#df-65923e3e-8247-45cb-94e7-17b100859457 button');\n",
              "      quickchartButtonEl.style.display =\n",
              "        google.colab.kernel.accessAllowed ? 'block' : 'none';\n",
              "    })();\n",
              "  </script>\n",
              "</div>\n",
              "\n",
              "    </div>\n",
              "  </div>\n"
            ],
            "application/vnd.google.colaboratory.intrinsic+json": {
              "type": "dataframe",
              "variable_name": "data",
              "summary": "{\n  \"name\": \"data\",\n  \"rows\": 149,\n  \"fields\": [\n    {\n      \"column\": \"Sepal_len_cm\",\n      \"properties\": {\n        \"dtype\": \"number\",\n        \"std\": 0.8285940572656172,\n        \"min\": 4.3,\n        \"max\": 7.9,\n        \"num_unique_values\": 35,\n        \"samples\": [\n          6.2,\n          4.5,\n          5.6\n        ],\n        \"semantic_type\": \"\",\n        \"description\": \"\"\n      }\n    },\n    {\n      \"column\": \"Sepal_wid_cm\",\n      \"properties\": {\n        \"dtype\": \"number\",\n        \"std\": 0.4334988777167477,\n        \"min\": 2.0,\n        \"max\": 4.4,\n        \"num_unique_values\": 23,\n        \"samples\": [\n          2.3,\n          4.4,\n          3.0\n        ],\n        \"semantic_type\": \"\",\n        \"description\": \"\"\n      }\n    },\n    {\n      \"column\": \"Petal_len_cm\",\n      \"properties\": {\n        \"dtype\": \"number\",\n        \"std\": 1.7596511617753423,\n        \"min\": 1.0,\n        \"max\": 6.9,\n        \"num_unique_values\": 43,\n        \"samples\": [\n          6.7,\n          3.8,\n          3.7\n        ],\n        \"semantic_type\": \"\",\n        \"description\": \"\"\n      }\n    },\n    {\n      \"column\": \"Petal_wid_cm\",\n      \"properties\": {\n        \"dtype\": \"number\",\n        \"std\": 0.7612920413899608,\n        \"min\": 0.1,\n        \"max\": 2.5,\n        \"num_unique_values\": 22,\n        \"samples\": [\n          0.2,\n          1.2,\n          1.3\n        ],\n        \"semantic_type\": \"\",\n        \"description\": \"\"\n      }\n    },\n    {\n      \"column\": \"Type\",\n      \"properties\": {\n        \"dtype\": \"number\",\n        \"std\": 0,\n        \"min\": -1,\n        \"max\": 1,\n        \"num_unique_values\": 3,\n        \"samples\": [\n          0,\n          -1,\n          1\n        ],\n        \"semantic_type\": \"\",\n        \"description\": \"\"\n      }\n    }\n  ]\n}"
            }
          },
          "metadata": {},
          "execution_count": 55
        }
      ]
    },
    {
      "cell_type": "markdown",
      "source": [
        "# Checking Dataset Balance\n",
        "A balanced dataset means the classes (labels) are distributed evenly. In an imbalanced dataset, one class might dominate over others, leading to biased predictions.\n",
        "\n",
        "Steps to Check Dataset Balance:\n",
        "- Class Distribution: Look at the count of each class to see if they are roughly equal.\n",
        "- Visualization: Visualize the class distribution using a bar chart or pie chart."
      ],
      "metadata": {
        "id": "zZsLmbpJTaX7"
      }
    },
    {
      "cell_type": "code",
      "source": [
        "# Checking the balance of the dataset\n",
        "# Count class distribution\n",
        "class_counts = data['Type'].value_counts()\n",
        "print(\"Class distribution:\\n\", class_counts)\n"
      ],
      "metadata": {
        "colab": {
          "base_uri": "https://localhost:8080/",
          "height": 0
        },
        "id": "iVp6fj_ZTrSQ",
        "outputId": "117de82e-a660-4c14-ef37-e6d17835cf21"
      },
      "execution_count": 56,
      "outputs": [
        {
          "output_type": "stream",
          "name": "stdout",
          "text": [
            "Class distribution:\n",
            " Type\n",
            "-1    50\n",
            " 1    50\n",
            " 0    49\n",
            "Name: count, dtype: int64\n"
          ]
        }
      ]
    },
    {
      "cell_type": "code",
      "source": [
        "# Plot class distribution\n",
        "class_counts.plot(kind='bar')\n",
        "plt.title('Class Distribution')\n",
        "plt.xlabel('Classes')\n",
        "plt.ylabel('Count')\n",
        "plt.show()"
      ],
      "metadata": {
        "colab": {
          "base_uri": "https://localhost:8080/",
          "height": 471
        },
        "id": "8kqtnfgDU6H8",
        "outputId": "01cb1d9c-337b-43d6-f61e-fd3a5535f394"
      },
      "execution_count": 57,
      "outputs": [
        {
          "output_type": "display_data",
          "data": {
            "text/plain": [
              "<Figure size 640x480 with 1 Axes>"
            ],
            "image/png": "[encoded data removed]"
          },
          "metadata": {}
        }
      ]
    },
    {
      "cell_type": "markdown",
      "source": [
        "# Training\n",
        "Actiavation function used : Sigmoid function"
      ],
      "metadata": {
        "id": "bg_xnhBSSYjH"
      }
    },
    {
      "cell_type": "code",
      "source": [
        "# Sigmoid Activation function\n",
        "def sigmoid(x):\n",
        "    return 1 / (1 + np.exp(-x))\n"
      ],
      "metadata": {
        "id": "qgHDA_qOSfR4"
      },
      "execution_count": 58,
      "outputs": []
    },
    {
      "cell_type": "code",
      "source": [
        "# Perceptron Training Function\n",
        "def perceptron_train(in_data, labels, alpha, epochs=100):\n",
        "    X = np.array(in_data)\n",
        "    y = np.array(labels)\n",
        "\n",
        "    # Initialize weights and bias randomly\n",
        "    weights = np.random.random(X.shape[1])\n",
        "    bias = np.random.random_sample()\n",
        "\n",
        "    for epoch in range(epochs):\n",
        "        for key in range(X.shape[0]):\n",
        "            # Calculate activation (weighted sum of inputs + bias)\n",
        "            net_input = np.dot(X[key], weights) + bias\n",
        "            a = sigmoid(net_input)  # Sigmoid activation function\n",
        "\n",
        "            # Convert to binary output\n",
        "            yn = 1 if a >= 0.5 else 0  # Threshold is 0.5 for sigmoid\n",
        "\n",
        "            # Update weights and bias based on error\n",
        "            error = y[key] - yn\n",
        "            weights += alpha * error * X[key]\n",
        "            bias += alpha * error\n",
        "\n",
        "        print(f'Epoch {epoch+1}/{epochs}: Weights - {weights}, Bias - {bias}')\n",
        "\n",
        "    return weights, bias"
      ],
      "metadata": {
        "id": "ZlPW3mekSgwC"
      },
      "execution_count": 59,
      "outputs": []
    },
    {
      "cell_type": "code",
      "source": [
        "# Perceptron Testing Function\n",
        "def perceptron_test(in_data, weights, bias):\n",
        "    X = np.array(in_data)\n",
        "    predictions = []\n",
        "\n",
        "    for key in range(X.shape[0]):\n",
        "        net_input = np.dot(X[key], weights) + bias\n",
        "        a = sigmoid(net_input)\n",
        "        yn = 1 if a >= 0.5 else 0  # Output is binary\n",
        "        predictions.append(yn)\n",
        "    return np.array(predictions)\n"
      ],
      "metadata": {
        "id": "LzaWRFGCVAGh"
      },
      "execution_count": 60,
      "outputs": []
    },
    {
      "cell_type": "markdown",
      "source": [
        "## Scoring the function"
      ],
      "metadata": {
        "id": "03YB7wPRSjXj"
      }
    },
    {
      "cell_type": "code",
      "source": [
        "# Scoring Function\n",
        "def score(result, labels):\n",
        "    correct_ctr = np.sum(result == labels)  # Count correct predictions\n",
        "    score = correct_ctr * 100 / len(labels)  # Accuracy percentage\n",
        "    print('Accuracy: {:.2f}%'.format(score))\n"
      ],
      "metadata": {
        "id": "W18v5-wISlu5"
      },
      "execution_count": 61,
      "outputs": []
    },
    {
      "cell_type": "markdown",
      "source": [
        "## Training"
      ],
      "metadata": {
        "id": "0ky5lUH3SrHI"
      }
    },
    {
      "cell_type": "code",
      "source": [
        "# Data Preprocessing\n",
        "# Dividing d_train into data and labels/targets\n",
        "d_train_y = d_train['Type'].apply(lambda x: 1 if x == 'setosa' else 0)  # Convert to binary for simplicity (setosa vs others)\n",
        "d_train_X = d_train.drop(['Type'], axis=1)\n",
        "\n",
        "# Dividing d_test into data and labels/targets\n",
        "d_test_y = d_test['Type'].apply(lambda x: 1 if x == 'setosa' else 0)  # Convert to binary for simplicity (setosa vs others)\n",
        "d_test_X = d_test.drop(['Type'], axis=1)\n",
        "\n",
        "# Train the model\n",
        "alpha = 0.01\n",
        "epochs = 100  # Number of training epochs\n",
        "weights, bias = perceptron_train(d_train_X, d_train_y, alpha, epochs)"
      ],
      "metadata": {
        "colab": {
          "base_uri": "https://localhost:8080/",
          "height": 0
        },
        "id": "B0I9i6hmSnxv",
        "outputId": "1df8e868-b95e-4080-a335-c7a3fd242e5a"
      },
      "execution_count": 62,
      "outputs": [
        {
          "output_type": "stream",
          "name": "stdout",
          "text": [
            "Epoch 1/100: Weights - [-0.36761514 -0.52717952  0.43419866  0.30547002], Bias - 0.031044599664036276\n",
            "Epoch 2/100: Weights - [-0.36761514 -0.52717952  0.43419866  0.30547002], Bias - 0.031044599664036276\n",
            "Epoch 3/100: Weights - [-0.36761514 -0.52717952  0.43419866  0.30547002], Bias - 0.031044599664036276\n",
            "Epoch 4/100: Weights - [-0.36761514 -0.52717952  0.43419866  0.30547002], Bias - 0.031044599664036276\n",
            "Epoch 5/100: Weights - [-0.36761514 -0.52717952  0.43419866  0.30547002], Bias - 0.031044599664036276\n",
            "Epoch 6/100: Weights - [-0.36761514 -0.52717952  0.43419866  0.30547002], Bias - 0.031044599664036276\n",
            "Epoch 7/100: Weights - [-0.36761514 -0.52717952  0.43419866  0.30547002], Bias - 0.031044599664036276\n",
            "Epoch 8/100: Weights - [-0.36761514 -0.52717952  0.43419866  0.30547002], Bias - 0.031044599664036276\n",
            "Epoch 9/100: Weights - [-0.36761514 -0.52717952  0.43419866  0.30547002], Bias - 0.031044599664036276\n",
            "Epoch 10/100: Weights - [-0.36761514 -0.52717952  0.43419866  0.30547002], Bias - 0.031044599664036276\n",
            "Epoch 11/100: Weights - [-0.36761514 -0.52717952  0.43419866  0.30547002], Bias - 0.031044599664036276\n",
            "Epoch 12/100: Weights - [-0.36761514 -0.52717952  0.43419866  0.30547002], Bias - 0.031044599664036276\n",
            "Epoch 13/100: Weights - [-0.36761514 -0.52717952  0.43419866  0.30547002], Bias - 0.031044599664036276\n",
            "Epoch 14/100: Weights - [-0.36761514 -0.52717952  0.43419866  0.30547002], Bias - 0.031044599664036276\n",
            "Epoch 15/100: Weights - [-0.36761514 -0.52717952  0.43419866  0.30547002], Bias - 0.031044599664036276\n",
            "Epoch 16/100: Weights - [-0.36761514 -0.52717952  0.43419866  0.30547002], Bias - 0.031044599664036276\n",
            "Epoch 17/100: Weights - [-0.36761514 -0.52717952  0.43419866  0.30547002], Bias - 0.031044599664036276\n",
            "Epoch 18/100: Weights - [-0.36761514 -0.52717952  0.43419866  0.30547002], Bias - 0.031044599664036276\n",
            "Epoch 19/100: Weights - [-0.36761514 -0.52717952  0.43419866  0.30547002], Bias - 0.031044599664036276\n",
            "Epoch 20/100: Weights - [-0.36761514 -0.52717952  0.43419866  0.30547002], Bias - 0.031044599664036276\n",
            "Epoch 21/100: Weights - [-0.36761514 -0.52717952  0.43419866  0.30547002], Bias - 0.031044599664036276\n",
            "Epoch 22/100: Weights - [-0.36761514 -0.52717952  0.43419866  0.30547002], Bias - 0.031044599664036276\n",
            "Epoch 23/100: Weights - [-0.36761514 -0.52717952  0.43419866  0.30547002], Bias - 0.031044599664036276\n",
            "Epoch 24/100: Weights - [-0.36761514 -0.52717952  0.43419866  0.30547002], Bias - 0.031044599664036276\n",
            "Epoch 25/100: Weights - [-0.36761514 -0.52717952  0.43419866  0.30547002], Bias - 0.031044599664036276\n",
            "Epoch 26/100: Weights - [-0.36761514 -0.52717952  0.43419866  0.30547002], Bias - 0.031044599664036276\n",
            "Epoch 27/100: Weights - [-0.36761514 -0.52717952  0.43419866  0.30547002], Bias - 0.031044599664036276\n",
            "Epoch 28/100: Weights - [-0.36761514 -0.52717952  0.43419866  0.30547002], Bias - 0.031044599664036276\n",
            "Epoch 29/100: Weights - [-0.36761514 -0.52717952  0.43419866  0.30547002], Bias - 0.031044599664036276\n",
            "Epoch 30/100: Weights - [-0.36761514 -0.52717952  0.43419866  0.30547002], Bias - 0.031044599664036276\n",
            "Epoch 31/100: Weights - [-0.36761514 -0.52717952  0.43419866  0.30547002], Bias - 0.031044599664036276\n",
            "Epoch 32/100: Weights - [-0.36761514 -0.52717952  0.43419866  0.30547002], Bias - 0.031044599664036276\n",
            "Epoch 33/100: Weights - [-0.36761514 -0.52717952  0.43419866  0.30547002], Bias - 0.031044599664036276\n",
            "Epoch 34/100: Weights - [-0.36761514 -0.52717952  0.43419866  0.30547002], Bias - 0.031044599664036276\n",
            "Epoch 35/100: Weights - [-0.36761514 -0.52717952  0.43419866  0.30547002], Bias - 0.031044599664036276\n",
            "Epoch 36/100: Weights - [-0.36761514 -0.52717952  0.43419866  0.30547002], Bias - 0.031044599664036276\n",
            "Epoch 37/100: Weights - [-0.36761514 -0.52717952  0.43419866  0.30547002], Bias - 0.031044599664036276\n",
            "Epoch 38/100: Weights - [-0.36761514 -0.52717952  0.43419866  0.30547002], Bias - 0.031044599664036276\n",
            "Epoch 39/100: Weights - [-0.36761514 -0.52717952  0.43419866  0.30547002], Bias - 0.031044599664036276\n",
            "Epoch 40/100: Weights - [-0.36761514 -0.52717952  0.43419866  0.30547002], Bias - 0.031044599664036276\n",
            "Epoch 41/100: Weights - [-0.36761514 -0.52717952  0.43419866  0.30547002], Bias - 0.031044599664036276\n",
            "Epoch 42/100: Weights - [-0.36761514 -0.52717952  0.43419866  0.30547002], Bias - 0.031044599664036276\n",
            "Epoch 43/100: Weights - [-0.36761514 -0.52717952  0.43419866  0.30547002], Bias - 0.031044599664036276\n",
            "Epoch 44/100: Weights - [-0.36761514 -0.52717952  0.43419866  0.30547002], Bias - 0.031044599664036276\n",
            "Epoch 45/100: Weights - [-0.36761514 -0.52717952  0.43419866  0.30547002], Bias - 0.031044599664036276\n",
            "Epoch 46/100: Weights - [-0.36761514 -0.52717952  0.43419866  0.30547002], Bias - 0.031044599664036276\n",
            "Epoch 47/100: Weights - [-0.36761514 -0.52717952  0.43419866  0.30547002], Bias - 0.031044599664036276\n",
            "Epoch 48/100: Weights - [-0.36761514 -0.52717952  0.43419866  0.30547002], Bias - 0.031044599664036276\n",
            "Epoch 49/100: Weights - [-0.36761514 -0.52717952  0.43419866  0.30547002], Bias - 0.031044599664036276\n",
            "Epoch 50/100: Weights - [-0.36761514 -0.52717952  0.43419866  0.30547002], Bias - 0.031044599664036276\n",
            "Epoch 51/100: Weights - [-0.36761514 -0.52717952  0.43419866  0.30547002], Bias - 0.031044599664036276\n",
            "Epoch 52/100: Weights - [-0.36761514 -0.52717952  0.43419866  0.30547002], Bias - 0.031044599664036276\n",
            "Epoch 53/100: Weights - [-0.36761514 -0.52717952  0.43419866  0.30547002], Bias - 0.031044599664036276\n",
            "Epoch 54/100: Weights - [-0.36761514 -0.52717952  0.43419866  0.30547002], Bias - 0.031044599664036276\n",
            "Epoch 55/100: Weights - [-0.36761514 -0.52717952  0.43419866  0.30547002], Bias - 0.031044599664036276\n",
            "Epoch 56/100: Weights - [-0.36761514 -0.52717952  0.43419866  0.30547002], Bias - 0.031044599664036276\n",
            "Epoch 57/100: Weights - [-0.36761514 -0.52717952  0.43419866  0.30547002], Bias - 0.031044599664036276\n",
            "Epoch 58/100: Weights - [-0.36761514 -0.52717952  0.43419866  0.30547002], Bias - 0.031044599664036276\n",
            "Epoch 59/100: Weights - [-0.36761514 -0.52717952  0.43419866  0.30547002], Bias - 0.031044599664036276\n",
            "Epoch 60/100: Weights - [-0.36761514 -0.52717952  0.43419866  0.30547002], Bias - 0.031044599664036276\n",
            "Epoch 61/100: Weights - [-0.36761514 -0.52717952  0.43419866  0.30547002], Bias - 0.031044599664036276\n",
            "Epoch 62/100: Weights - [-0.36761514 -0.52717952  0.43419866  0.30547002], Bias - 0.031044599664036276\n",
            "Epoch 63/100: Weights - [-0.36761514 -0.52717952  0.43419866  0.30547002], Bias - 0.031044599664036276\n",
            "Epoch 64/100: Weights - [-0.36761514 -0.52717952  0.43419866  0.30547002], Bias - 0.031044599664036276\n",
            "Epoch 65/100: Weights - [-0.36761514 -0.52717952  0.43419866  0.30547002], Bias - 0.031044599664036276\n",
            "Epoch 66/100: Weights - [-0.36761514 -0.52717952  0.43419866  0.30547002], Bias - 0.031044599664036276\n",
            "Epoch 67/100: Weights - [-0.36761514 -0.52717952  0.43419866  0.30547002], Bias - 0.031044599664036276\n",
            "Epoch 68/100: Weights - [-0.36761514 -0.52717952  0.43419866  0.30547002], Bias - 0.031044599664036276\n",
            "Epoch 69/100: Weights - [-0.36761514 -0.52717952  0.43419866  0.30547002], Bias - 0.031044599664036276\n",
            "Epoch 70/100: Weights - [-0.36761514 -0.52717952  0.43419866  0.30547002], Bias - 0.031044599664036276\n",
            "Epoch 71/100: Weights - [-0.36761514 -0.52717952  0.43419866  0.30547002], Bias - 0.031044599664036276\n",
            "Epoch 72/100: Weights - [-0.36761514 -0.52717952  0.43419866  0.30547002], Bias - 0.031044599664036276\n",
            "Epoch 73/100: Weights - [-0.36761514 -0.52717952  0.43419866  0.30547002], Bias - 0.031044599664036276\n",
            "Epoch 74/100: Weights - [-0.36761514 -0.52717952  0.43419866  0.30547002], Bias - 0.031044599664036276\n",
            "Epoch 75/100: Weights - [-0.36761514 -0.52717952  0.43419866  0.30547002], Bias - 0.031044599664036276\n",
            "Epoch 76/100: Weights - [-0.36761514 -0.52717952  0.43419866  0.30547002], Bias - 0.031044599664036276\n",
            "Epoch 77/100: Weights - [-0.36761514 -0.52717952  0.43419866  0.30547002], Bias - 0.031044599664036276\n",
            "Epoch 78/100: Weights - [-0.36761514 -0.52717952  0.43419866  0.30547002], Bias - 0.031044599664036276\n",
            "Epoch 79/100: Weights - [-0.36761514 -0.52717952  0.43419866  0.30547002], Bias - 0.031044599664036276\n",
            "Epoch 80/100: Weights - [-0.36761514 -0.52717952  0.43419866  0.30547002], Bias - 0.031044599664036276\n",
            "Epoch 81/100: Weights - [-0.36761514 -0.52717952  0.43419866  0.30547002], Bias - 0.031044599664036276\n",
            "Epoch 82/100: Weights - [-0.36761514 -0.52717952  0.43419866  0.30547002], Bias - 0.031044599664036276\n",
            "Epoch 83/100: Weights - [-0.36761514 -0.52717952  0.43419866  0.30547002], Bias - 0.031044599664036276\n",
            "Epoch 84/100: Weights - [-0.36761514 -0.52717952  0.43419866  0.30547002], Bias - 0.031044599664036276\n",
            "Epoch 85/100: Weights - [-0.36761514 -0.52717952  0.43419866  0.30547002], Bias - 0.031044599664036276\n",
            "Epoch 86/100: Weights - [-0.36761514 -0.52717952  0.43419866  0.30547002], Bias - 0.031044599664036276\n",
            "Epoch 87/100: Weights - [-0.36761514 -0.52717952  0.43419866  0.30547002], Bias - 0.031044599664036276\n",
            "Epoch 88/100: Weights - [-0.36761514 -0.52717952  0.43419866  0.30547002], Bias - 0.031044599664036276\n",
            "Epoch 89/100: Weights - [-0.36761514 -0.52717952  0.43419866  0.30547002], Bias - 0.031044599664036276\n",
            "Epoch 90/100: Weights - [-0.36761514 -0.52717952  0.43419866  0.30547002], Bias - 0.031044599664036276\n",
            "Epoch 91/100: Weights - [-0.36761514 -0.52717952  0.43419866  0.30547002], Bias - 0.031044599664036276\n",
            "Epoch 92/100: Weights - [-0.36761514 -0.52717952  0.43419866  0.30547002], Bias - 0.031044599664036276\n",
            "Epoch 93/100: Weights - [-0.36761514 -0.52717952  0.43419866  0.30547002], Bias - 0.031044599664036276\n",
            "Epoch 94/100: Weights - [-0.36761514 -0.52717952  0.43419866  0.30547002], Bias - 0.031044599664036276\n",
            "Epoch 95/100: Weights - [-0.36761514 -0.52717952  0.43419866  0.30547002], Bias - 0.031044599664036276\n",
            "Epoch 96/100: Weights - [-0.36761514 -0.52717952  0.43419866  0.30547002], Bias - 0.031044599664036276\n",
            "Epoch 97/100: Weights - [-0.36761514 -0.52717952  0.43419866  0.30547002], Bias - 0.031044599664036276\n",
            "Epoch 98/100: Weights - [-0.36761514 -0.52717952  0.43419866  0.30547002], Bias - 0.031044599664036276\n",
            "Epoch 99/100: Weights - [-0.36761514 -0.52717952  0.43419866  0.30547002], Bias - 0.031044599664036276\n",
            "Epoch 100/100: Weights - [-0.36761514 -0.52717952  0.43419866  0.30547002], Bias - 0.031044599664036276\n"
          ]
        }
      ]
    },
    {
      "cell_type": "markdown",
      "source": [
        "## Testing"
      ],
      "metadata": {
        "id": "DHAVqwUFS1F7"
      }
    },
    {
      "cell_type": "code",
      "source": [
        "# Test the model\n",
        "result_test = perceptron_test(d_test_X, weights, bias)"
      ],
      "metadata": {
        "id": "iIxhS-T9SxOS"
      },
      "execution_count": 63,
      "outputs": []
    },
    {
      "cell_type": "code",
      "source": [
        "result_test"
      ],
      "metadata": {
        "colab": {
          "base_uri": "https://localhost:8080/",
          "height": 0
        },
        "id": "uhcdzzPVVWpL",
        "outputId": "09f8a12d-1d53-4994-992b-aadf205f1949"
      },
      "execution_count": 64,
      "outputs": [
        {
          "output_type": "execute_result",
          "data": {
            "text/plain": [
              "array([0, 0, 0, 0, 0, 0, 0, 0, 0, 0, 0, 0, 0, 0, 0, 0, 0, 0, 0, 0, 0, 0,\n",
              "       0, 0, 0, 0, 0, 0, 0, 0, 0, 0, 0, 0, 0, 0, 0, 0, 0, 0, 0, 0, 0, 0,\n",
              "       0, 0, 0])"
            ]
          },
          "metadata": {},
          "execution_count": 64
        }
      ]
    },
    {
      "cell_type": "markdown",
      "source": [
        "## Calculating Score"
      ],
      "metadata": {
        "id": "_M6RMLTvS5iD"
      }
    },
    {
      "cell_type": "code",
      "source": [
        "# Evaluate model performance\n",
        "score(result_test, d_test_y)"
      ],
      "metadata": {
        "colab": {
          "base_uri": "https://localhost:8080/",
          "height": 0
        },
        "id": "TwCGgXa1S3eF",
        "outputId": "f4aceb1e-b942-4560-8ba3-1a628bf4d0f4"
      },
      "execution_count": 65,
      "outputs": [
        {
          "output_type": "stream",
          "name": "stdout",
          "text": [
            "Accuracy: 100.00%\n"
          ]
        }
      ]
    },
    {
      "cell_type": "markdown",
      "source": [
        "### It's unlikely to get 100% accuracy unless the problem is trivial or there is some form of overfitting.\n",
        "\n",
        "-Cross-validation is a better approach to evaluate model performance.\n",
        "-For multi-class classification, consider using models or techniques that are better suited for the task.\n",
        "\n",
        "Simplified Classification:\n",
        "\n",
        "By converting the problem into a binary classification task (setosa vs. non-setosa), you simplify the problem. The setosa class is linearly separable from the other classes in the Iris dataset.\n",
        "Since setosa is distinct (with separate feature ranges), a simple perceptron can easily classify it with 100% accuracy.\n",
        "\n",
        "Overfitting:\n",
        "\n",
        "With just two classes and a relatively simple perceptron model, the model might memorize the features during training, resulting in perfect accuracy on the test set (especially with a small dataset like Iris).\n",
        "This happens because the model does not have to deal with the complexity of multi-class classification, which would normally require handling more data variations.\n",
        "\n",
        "-Cross-Validation:\n",
        "\n",
        "    To get a more accurate understanding of model performance and ensure it's not overfitting, consider using cross-validation (e.g., 5-fold cross-validation) to evaluate the model on different subsets of the data.\n",
        "\n",
        "-Feature Scaling:\n",
        "\n",
        "    You should scale the features (e.g., using StandardScaler) to ensure that the perceptron performs optimally, as it's sensitive to the scale of the input data."
      ],
      "metadata": {
        "id": "fYMJGerWWPPE"
      }
    },
    {
      "cell_type": "markdown",
      "source": [
        "## Dataset Balance:\n",
        "\n",
        "The class distribution is printed and visualized using a bar chart.\n",
        "\n",
        "## Sigmoid Activation:\n",
        "\n",
        "The sigmoid function is used instead of the tanh activation function for the perceptron.\n",
        "A threshold of ```0.5``` is used to classify the output as 1 (positive) or 0 (negative).\n",
        "Model Training and Testing:\n",
        "\n",
        "The model is trained with the binary classification of setosa versus non-setosa.\n",
        "For simplicity, the target labels are converted into binary values (1 for setosa, 0 for others).\n",
        "\n",
        "## Model Scoring:\n",
        "\n",
        "The accuracy of the model is calculated by comparing predicted values (result_test) with actual values (d_test_y).\n",
        "\n",
        "## Epochs:\n",
        "\n",
        "The training function now includes an epochs parameter to specify how many times the model should iterate over the entire dataset for training."
      ],
      "metadata": {
        "id": "3UpFZimwVeVN"
      }
    },
    {
      "cell_type": "code",
      "source": [
        "from sklearn.model_selection import cross_val_score\n",
        "from sklearn.linear_model import Perceptron\n",
        "from sklearn.datasets import load_iris\n",
        "\n",
        "# Load Iris dataset\n",
        "iris = load_iris()\n",
        "X, y = iris.data, iris.target\n",
        "\n",
        "# Initialize the Perceptron model\n",
        "perceptron = Perceptron(max_iter=100, eta0=0.01)\n",
        "\n",
        "# Cross-validation\n",
        "scores = cross_val_score(perceptron, X, y, cv=5)  # 5-fold cross-validation\n",
        "print(f\"Cross-validation scores: {scores}\")\n",
        "print(f\"Mean accuracy: {scores.mean()}\")\n"
      ],
      "metadata": {
        "colab": {
          "base_uri": "https://localhost:8080/",
          "height": 0
        },
        "id": "Yz4YV910Vwun",
        "outputId": "b6011902-ff68-4afa-bb09-95a9675316fe"
      },
      "execution_count": 69,
      "outputs": [
        {
          "output_type": "stream",
          "name": "stdout",
          "text": [
            "Cross-validation scores: [0.76666667 0.7        0.76666667 0.83333333 0.66666667]\n",
            "Mean accuracy: 0.7466666666666667\n"
          ]
        }
      ]
    },
    {
      "cell_type": "code",
      "source": [
        "from sklearn.preprocessing import StandardScaler\n",
        "\n",
        "scaler = StandardScaler()\n",
        "d_train_X_scaled = scaler.fit_transform(d_train_X)\n",
        "d_test_X_scaled = scaler.transform(d_test_X)\n"
      ],
      "metadata": {
        "id": "ICniXPBmVxA7"
      },
      "execution_count": 70,
      "outputs": []
    },
    {
      "cell_type": "code",
      "source": [
        "from sklearn.model_selection import train_test_split\n",
        "from sklearn.preprocessing import StandardScaler\n",
        "from sklearn.linear_model import Perceptron\n",
        "from sklearn.metrics import accuracy_score\n",
        "\n",
        "# Load dataset\n",
        "data = pd.read_csv('iris.csv')\n",
        "data.columns = ['Sepal_len_cm', 'Sepal_wid_cm', 'Petal_len_cm', 'Petal_wid_cm', 'Type']\n",
        "\n",
        "# Features and target\n",
        "X = data.drop('Type', axis=1)\n",
        "y = data['Type']\n",
        "\n",
        "# Train-test split\n",
        "X_train, X_test, y_train, y_test = train_test_split(X, y, test_size=0.3, random_state=42)\n",
        "\n",
        "# Scaling the data\n",
        "scaler = StandardScaler()\n",
        "X_train_scaled = scaler.fit_transform(X_train)\n",
        "X_test_scaled = scaler.transform(X_test)\n",
        "\n",
        "# Perceptron model with One-vs-Rest strategy\n",
        "perceptron = Perceptron(max_iter=100, eta0=0.01)\n",
        "perceptron.fit(X_train_scaled, y_train)\n",
        "\n",
        "# Make predictions\n",
        "y_pred = perceptron.predict(X_test_scaled)\n",
        "\n",
        "# Evaluate the model\n",
        "accuracy = accuracy_score(y_test, y_pred)\n",
        "print(f\"Accuracy: {accuracy*100:.2f}%\")\n"
      ],
      "metadata": {
        "colab": {
          "base_uri": "https://localhost:8080/",
          "height": 0
        },
        "id": "sMkLKVAlV0x1",
        "outputId": "bcc189ea-a2de-4203-f687-9952a9bd9993"
      },
      "execution_count": 71,
      "outputs": [
        {
          "output_type": "stream",
          "name": "stdout",
          "text": [
            "Accuracy: 80.00%\n"
          ]
        }
      ]
    },
    {
      "cell_type": "markdown",
      "source": [],
      "metadata": {
        "id": "JSJe4Fp0XKnr"
      }
    },
    {
      "cell_type": "markdown",
      "source": [
        "---\n",
        "---\n"
      ],
      "metadata": {
        "id": "389veCR4XOGw"
      }
    },
    {
      "cell_type": "markdown",
      "source": [
        "# **Multi Layer Perceptron**"
      ],
      "metadata": {
        "id": "9zUGFYj6XSuo"
      }
    },
    {
      "cell_type": "markdown",
      "source": [
        "**Single Layer Perceptron (SLP):**\n",
        "- SLP has only one layer of neurons (input layer and output layer), which means it can only solve linearly separable problems. It does not have the capacity to learn non-linear patterns.\n",
        "- SLP's main limitation is that it can only perform well when the problem is simple (like binary classification between setosa vs. non-setosa).\n",
        "\n",
        "**Multi-Layer Perceptron (MLP):**\n",
        "- MLP, also known as a feed-forward neural network with one or more hidden layers, can learn non-linear patterns. The addition of hidden layers enables it to model complex decision boundaries and solve problems that are non-linearly separable.\n",
        "- MLP is more powerful than SLP, as it uses activation functions in hidden layers to transform inputs into higher-dimensional feature spaces.\n"
      ],
      "metadata": {
        "id": "0DG_4GVfXX5p"
      }
    },
    {
      "cell_type": "code",
      "source": [
        "import numpy as np\n",
        "import pandas as pd\n",
        "from sklearn.model_selection import train_test_split\n",
        "from sklearn.preprocessing import StandardScaler\n",
        "from sklearn.neural_network import MLPClassifier\n",
        "from sklearn.metrics import accuracy_score\n",
        "import matplotlib.pyplot as plt\n"
      ],
      "metadata": {
        "id": "R1AWxff3XO3O"
      },
      "execution_count": 73,
      "outputs": []
    },
    {
      "cell_type": "code",
      "source": [
        "# Load the Iris dataset\n",
        "data = pd.read_csv('iris.csv')\n",
        "data.columns = ['Sepal_len_cm', 'Sepal_wid_cm', 'Petal_len_cm', 'Petal_wid_cm', 'Type']\n",
        "\n",
        "# Convert the categorical 'Type' column into numerical values\n",
        "data['Type'] = data['Type'].apply(lambda x: 1 if x == 'setosa' else 0)  # For binary classification (setosa vs others)"
      ],
      "metadata": {
        "id": "RARC0h2zXrDA"
      },
      "execution_count": 74,
      "outputs": []
    },
    {
      "cell_type": "code",
      "source": [
        "# Features and target\n",
        "X = data.drop('Type', axis=1)\n",
        "y = data['Type']\n",
        "\n",
        "# Split the dataset into training and testing sets\n",
        "X_train, X_test, y_train, y_test = train_test_split(X, y, test_size=0.3, random_state=42)\n",
        "\n",
        "# Feature scaling (important for neural networks)\n",
        "scaler = StandardScaler()\n",
        "X_train_scaled = scaler.fit_transform(X_train)\n",
        "X_test_scaled = scaler.transform(X_test)"
      ],
      "metadata": {
        "id": "Ab7g0VC9XugL"
      },
      "execution_count": 75,
      "outputs": []
    },
    {
      "cell_type": "markdown",
      "source": [
        "## ----------------- MLP Model ----------------------\n",
        "### The key change: MLP with hidden layers and non-linear activation functions"
      ],
      "metadata": {
        "id": "82egrYJYX7Vx"
      }
    },
    {
      "cell_type": "code",
      "source": [
        "mlp = MLPClassifier(hidden_layer_sizes=(5,),  # One hidden layer with 5 neurons (can be adjusted)\n",
        "                    activation='relu',        # 'relu' is a common activation function for hidden layers\n",
        "                    solver='adam',            # Adam optimizer, effective for MLPs\n",
        "                    max_iter=1000,            # Number of iterations (training epochs)\n",
        "                    random_state=42)\n",
        "\n",
        "# Train the model\n",
        "mlp.fit(X_train_scaled, y_train)\n",
        "\n",
        "# Make predictions\n",
        "y_pred = mlp.predict(X_test_scaled)"
      ],
      "metadata": {
        "id": "FaR_uhEzX06T"
      },
      "execution_count": 76,
      "outputs": []
    },
    {
      "cell_type": "code",
      "source": [
        "# Calculating accuracy\n",
        "accuracy = accuracy_score(y_test, y_pred)\n",
        "print(f'MLP Classifier Accuracy: {accuracy * 100:.2f}%')"
      ],
      "metadata": {
        "colab": {
          "base_uri": "https://localhost:8080/",
          "height": 0
        },
        "id": "p50PnnXRYG6x",
        "outputId": "7a950872-dbe5-4d35-d5d9-c4ca319f7b93"
      },
      "execution_count": 77,
      "outputs": [
        {
          "output_type": "stream",
          "name": "stdout",
          "text": [
            "MLP Classifier Accuracy: 100.00%\n"
          ]
        }
      ]
    },
    {
      "cell_type": "code",
      "source": [
        "# Plotting accuracy score during training (optional)\n",
        "plt.plot(mlp.loss_curve_)\n",
        "plt.title('Loss curve during training')\n",
        "plt.xlabel('Epochs')\n",
        "plt.ylabel('Loss')\n",
        "plt.show()"
      ],
      "metadata": {
        "colab": {
          "base_uri": "https://localhost:8080/",
          "height": 472
        },
        "id": "4kqTtVCHYJxd",
        "outputId": "2f558fbe-1ef9-4ae9-8793-40f385551ff2"
      },
      "execution_count": 79,
      "outputs": [
        {
          "output_type": "display_data",
          "data": {
            "text/plain": [
              "<Figure size 640x480 with 1 Axes>"
            ],
            "image/png": "[encoded data removed]"
          },
          "metadata": {}
        }
      ]
    },
    {
      "cell_type": "code",
      "source": [
        "print(f\"MLP Accuracy: {accuracy * 100:.2f}%\")\n"
      ],
      "metadata": {
        "colab": {
          "base_uri": "https://localhost:8080/",
          "height": 0
        },
        "id": "bf00BjgBYLqu",
        "outputId": "7162a048-80b6-4255-98be-7d7647da6f2c"
      },
      "execution_count": 81,
      "outputs": [
        {
          "output_type": "stream",
          "name": "stdout",
          "text": [
            "MLP Accuracy: 100.00%\n"
          ]
        }
      ]
    },
    {
      "cell_type": "markdown",
      "source": [
        "**Checking for overfitting!**"
      ],
      "metadata": {
        "id": "7ct1si6wYqBc"
      }
    },
    {
      "cell_type": "code",
      "source": [
        "# 1. Cross-Validation:\n",
        "from sklearn.model_selection import cross_val_score\n",
        "\n",
        "# Perform cross-validation on the MLP model\n",
        "cv_scores = cross_val_score(mlp, X, y, cv=5)  # 5-fold cross-validation\n",
        "print(f'Cross-validation scores: {cv_scores}')\n",
        "print(f'Mean cross-validation score: {cv_scores.mean()}')\n"
      ],
      "metadata": {
        "colab": {
          "base_uri": "https://localhost:8080/",
          "height": 0
        },
        "id": "xn7slGVOYajM",
        "outputId": "fabaad03-8257-42cc-b560-2edd6b860237"
      },
      "execution_count": 83,
      "outputs": [
        {
          "output_type": "stream",
          "name": "stdout",
          "text": [
            "Cross-validation scores: [1. 1. 1. 1. 1.]\n",
            "Mean cross-validation score: 1.0\n"
          ]
        }
      ]
    },
    {
      "cell_type": "code",
      "source": [
        "# 2. Regularization:\n",
        "mlp = MLPClassifier(hidden_layer_sizes=(5,),\n",
        "                    activation='relu',\n",
        "                    solver='adam',\n",
        "                    max_iter=1000,\n",
        "                    alpha=0.001,  # Regularization parameter (L2)\n",
        "                    random_state=42)\n"
      ],
      "metadata": {
        "id": "cSVZJhQFYx2i"
      },
      "execution_count": 84,
      "outputs": []
    },
    {
      "cell_type": "markdown",
      "source": [
        "\n",
        "The result cud be from the cross-validation scores — all being 1.0, and the mean cross-validation score being 1.0 — confirms that your MLP model is achieving 100% accuracy on all folds of the cross-validation process."
      ],
      "metadata": {
        "id": "xPpq5-R3ZCpN"
      }
    },
    {
      "cell_type": "markdown",
      "source": [
        "### **Learning Curves**\n",
        "You can track and plot the loss for each fold during cross-validation to identify overfitting"
      ],
      "metadata": {
        "id": "vaz6iHNsZM0c"
      }
    },
    {
      "cell_type": "code",
      "source": [
        "from sklearn.model_selection import learning_curve\n",
        "\n",
        "train_sizes, train_scores, test_scores = learning_curve(\n",
        "    mlp, X, y, cv=5, scoring='accuracy', n_jobs=-1, train_sizes=np.linspace(0.1, 1.0, 10))\n",
        "\n",
        "# Plot learning curves\n",
        "plt.plot(train_sizes, np.mean(train_scores, axis=1), label='Training Accuracy')\n",
        "plt.plot(train_sizes, np.mean(test_scores, axis=1), label='Validation Accuracy')\n",
        "plt.xlabel('Training Set Size')\n",
        "plt.ylabel('Accuracy')\n",
        "plt.title('Learning Curves')\n",
        "plt.legend()\n",
        "plt.show()\n"
      ],
      "metadata": {
        "colab": {
          "base_uri": "https://localhost:8080/",
          "height": 472
        },
        "id": "MMGoAQ86ZDI-",
        "outputId": "a506fce1-9f1e-4ad4-8934-2fbbdab0595f"
      },
      "execution_count": 85,
      "outputs": [
        {
          "output_type": "display_data",
          "data": {
            "text/plain": [
              "<Figure size 640x480 with 1 Axes>"
            ],
            "image/png": "[encoded data removed]"
          },
          "metadata": {}
        }
      ]
    },
    {
      "cell_type": "markdown",
      "source": [
        " This kind of graph suggests a few potential issues:\n",
        "\n",
        "**Overfitting:** The model might be memorizing the data due to its complexity or the simplicity of the problem (Iris dataset). Overfitting usually occurs when the model performs well on the training data but struggles with new, unseen data. Since the accuracy is consistent at 100% on both the training and validation sets, it suggests that the model is memorizing the training data perfectly, but it may not generalize to other datasets.\n",
        "\n",
        "**Easy Dataset:** The Iris dataset, especially with binary classification like setosa vs. others, is easy for models like MLPs to solve, resulting in 100% accuracy. However, this doesn't necessarily indicate that the model will perform well on more complex tasks.\n",
        "\n",
        "**Lack of Regularization:** As mentioned earlier, overfitting might be caused by the lack of regularization (e.g., L2 regularization), which helps control the model’s complexity."
      ],
      "metadata": {
        "id": "QwulFpGeZfsZ"
      }
    }
  ]
}